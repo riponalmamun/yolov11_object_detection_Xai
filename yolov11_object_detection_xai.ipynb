{
  "metadata": {
    "kernelspec": {
      "language": "python",
      "display_name": "Python 3",
      "name": "python3"
    },
    "language_info": {
      "name": "python",
      "version": "3.10.14",
      "mimetype": "text/x-python",
      "codemirror_mode": {
        "name": "ipython",
        "version": 3
      },
      "pygments_lexer": "ipython3",
      "nbconvert_exporter": "python",
      "file_extension": ".py"
    },
    "kaggle": {
      "accelerator": "nvidiaTeslaT4",
      "dataSources": [
        {
          "sourceId": 9327817,
          "sourceType": "datasetVersion",
          "datasetId": 5651299
        }
      ],
      "dockerImageVersionId": 30787,
      "isInternetEnabled": true,
      "language": "python",
      "sourceType": "notebook",
      "isGpuEnabled": true
    },
    "colab": {
      "provenance": [],
      "include_colab_link": true
    }
  },
  "nbformat_minor": 0,
  "nbformat": 4,
  "cells": [
    {
      "cell_type": "markdown",
      "metadata": {
        "id": "view-in-github",
        "colab_type": "text"
      },
      "source": [
        "<a href=\"https://colab.research.google.com/github/raihanewubd/CSE457/blob/main/CSE_475_lab_5b_yolov11_object_detection_xai.ipynb\" target=\"_parent\"><img src=\"https://colab.research.google.com/assets/colab-badge.svg\" alt=\"Open In Colab\"/></a>"
      ]
    },
    {
      "cell_type": "code",
      "source": [
        "!pip install roboflow\n",
        "\n",
        "from roboflow import Roboflow\n",
        "rf = Roboflow(api_key=\"xai3waM8J9zJBNreNjSx\")\n",
        "project = rf.workspace(\"ewuricedataset\").project(\"rice-panicle-final\")\n",
        "version = project.version(1)\n",
        "dataset = version.download(\"yolov11\")\n",
        ""
      ],
      "metadata": {
        "_uuid": "8f2839f25d086af736a60e9eeb907d3b93b6e0e5",
        "_cell_guid": "b1076dfc-b9ad-4769-8c92-a6c4dae69d19",
        "trusted": true,
        "execution": {
          "iopub.status.busy": "2024-11-03T21:24:54.522306Z",
          "iopub.execute_input": "2024-11-03T21:24:54.523804Z",
          "iopub.status.idle": "2024-11-03T21:25:17.545557Z",
          "shell.execute_reply.started": "2024-11-03T21:24:54.523702Z",
          "shell.execute_reply": "2024-11-03T21:25:17.544578Z"
        },
        "id": "FPfv32T74P19"
      },
      "outputs": [],
      "execution_count": null
    },
    {
      "cell_type": "code",
      "source": [
        "%pip install ultralytics supervision roboflow\n",
        "import ultralytics\n",
        "ultralytics.checks()"
      ],
      "metadata": {
        "trusted": true,
        "execution": {
          "iopub.status.busy": "2024-11-03T21:25:20.803031Z",
          "iopub.execute_input": "2024-11-03T21:25:20.803438Z",
          "iopub.status.idle": "2024-11-03T21:25:37.958067Z",
          "shell.execute_reply.started": "2024-11-03T21:25:20.803402Z",
          "shell.execute_reply": "2024-11-03T21:25:37.957119Z"
        },
        "id": "5ZFg57WX4P2A"
      },
      "outputs": [],
      "execution_count": null
    },
    {
      "cell_type": "code",
      "source": [
        "!sed -i '$d' {dataset.location}/data.yaml   # Delete the last line\n",
        "!sed -i '$d' {dataset.location}/data.yaml   # Delete the second-to-last line\n",
        "!sed -i '$d' {dataset.location}/data.yaml   # Delete the third-to-last line\n",
        "\n",
        "!echo 'test: ../test/images' >> {dataset.location}/data.yaml\n",
        "!echo 'train: ../train/images' >> {dataset.location}/data.yaml\n",
        "!echo 'val: ../valid/images' >> {dataset.location}/data.yaml"
      ],
      "metadata": {
        "trusted": true,
        "execution": {
          "iopub.status.busy": "2024-11-03T21:25:59.524547Z",
          "iopub.execute_input": "2024-11-03T21:25:59.524978Z",
          "iopub.status.idle": "2024-11-03T21:26:00.545344Z",
          "shell.execute_reply.started": "2024-11-03T21:25:59.524930Z",
          "shell.execute_reply": "2024-11-03T21:26:00.544163Z"
        },
        "id": "dPtDivVn4P2B"
      },
      "outputs": [],
      "execution_count": null
    },
    {
      "cell_type": "code",
      "source": [
        "!yolo task=detect mode=train model=yolo11s.pt data=/kaggle/working/Rice-Panicle-Final-1/data.yaml epochs=10 imgsz=640 plots=True\n"
      ],
      "metadata": {
        "trusted": true,
        "execution": {
          "iopub.status.busy": "2024-11-03T21:27:45.952161Z",
          "iopub.execute_input": "2024-11-03T21:27:45.952996Z",
          "iopub.status.idle": "2024-11-03T21:33:56.785367Z",
          "shell.execute_reply.started": "2024-11-03T21:27:45.952953Z",
          "shell.execute_reply": "2024-11-03T21:33:56.784332Z"
        },
        "id": "scsA7QrC4P2B"
      },
      "outputs": [],
      "execution_count": null
    },
    {
      "cell_type": "code",
      "source": [
        "from IPython.display import Image as IPyImage\n",
        "\n",
        "IPyImage(filename=f'/kaggle/working/runs/detect/train/confusion_matrix.png', width=600)"
      ],
      "metadata": {
        "trusted": true,
        "execution": {
          "iopub.status.busy": "2024-11-03T21:34:42.845702Z",
          "iopub.execute_input": "2024-11-03T21:34:42.846437Z",
          "iopub.status.idle": "2024-11-03T21:34:42.857700Z",
          "shell.execute_reply.started": "2024-11-03T21:34:42.846395Z",
          "shell.execute_reply": "2024-11-03T21:34:42.856782Z"
        },
        "id": "p7b6sXvW4P2B"
      },
      "outputs": [],
      "execution_count": null
    },
    {
      "cell_type": "code",
      "source": [
        "!yolo task=detect mode=predict model=/kaggle/working/runs/detect/train/weights/best.pt conf=0.25 source=/kaggle/working/Rice-Panicle-Final-1/test/images save=True"
      ],
      "metadata": {
        "trusted": true,
        "execution": {
          "iopub.status.busy": "2024-11-03T21:42:21.155011Z",
          "iopub.execute_input": "2024-11-03T21:42:21.155788Z",
          "iopub.status.idle": "2024-11-03T21:42:32.457756Z",
          "shell.execute_reply.started": "2024-11-03T21:42:21.155741Z",
          "shell.execute_reply": "2024-11-03T21:42:32.456779Z"
        },
        "id": "W-8yYk6W4P2C"
      },
      "outputs": [],
      "execution_count": null
    },
    {
      "cell_type": "code",
      "source": [
        "import glob\n",
        "import os\n",
        "from IPython.display import Image as IPyImage, display\n",
        "\n",
        "latest_folder = max(glob.glob('/kaggle/working/runs/detect/predict*/'), key=os.path.getmtime)\n",
        "for img in glob.glob(f'{latest_folder}/*.jpg')[:3]:\n",
        "\tdisplay(IPyImage(filename=img, width=600))\n",
        "\tprint(\"\\n\")"
      ],
      "metadata": {
        "trusted": true,
        "execution": {
          "iopub.status.busy": "2024-11-03T21:43:05.392420Z",
          "iopub.execute_input": "2024-11-03T21:43:05.393530Z",
          "iopub.status.idle": "2024-11-03T21:43:05.430943Z",
          "shell.execute_reply.started": "2024-11-03T21:43:05.393458Z",
          "shell.execute_reply": "2024-11-03T21:43:05.430079Z"
        },
        "id": "S7tTq1AR4P2C"
      },
      "outputs": [],
      "execution_count": null
    },
    {
      "cell_type": "code",
      "source": [
        "!git clone https://github.com/rigvedrs/YOLO-V8-CAM.git"
      ],
      "metadata": {
        "trusted": true,
        "execution": {
          "iopub.status.busy": "2024-11-03T21:36:27.336992Z",
          "iopub.execute_input": "2024-11-03T21:36:27.337428Z",
          "iopub.status.idle": "2024-11-03T21:36:29.916065Z",
          "shell.execute_reply.started": "2024-11-03T21:36:27.337388Z",
          "shell.execute_reply": "2024-11-03T21:36:29.915106Z"
        },
        "id": "v1oKG5Nk4P2D"
      },
      "outputs": [],
      "execution_count": null
    },
    {
      "cell_type": "code",
      "source": [
        "import warnings\n",
        "warnings.filterwarnings('ignore')\n",
        "warnings.simplefilter('ignore')\n",
        "import torch\n",
        "import cv2\n",
        "import numpy as np\n",
        "import matplotlib.pyplot as plt\n",
        "import requests\n",
        "import torchvision.transforms as transforms\n",
        "from PIL import Image\n",
        "import io"
      ],
      "metadata": {
        "trusted": true,
        "execution": {
          "iopub.status.busy": "2024-11-03T21:45:35.410684Z",
          "iopub.execute_input": "2024-11-03T21:45:35.411385Z",
          "iopub.status.idle": "2024-11-03T21:45:35.821387Z",
          "shell.execute_reply.started": "2024-11-03T21:45:35.411340Z",
          "shell.execute_reply": "2024-11-03T21:45:35.820606Z"
        },
        "id": "DmWA0qeV4P2D"
      },
      "outputs": [],
      "execution_count": null
    },
    {
      "cell_type": "code",
      "source": [
        "!ls"
      ],
      "metadata": {
        "trusted": true,
        "execution": {
          "iopub.status.busy": "2024-11-03T21:46:38.077963Z",
          "iopub.execute_input": "2024-11-03T21:46:38.078382Z",
          "iopub.status.idle": "2024-11-03T21:46:39.064342Z",
          "shell.execute_reply.started": "2024-11-03T21:46:38.078342Z",
          "shell.execute_reply": "2024-11-03T21:46:39.063405Z"
        },
        "id": "9g8NENHl4P2D"
      },
      "outputs": [],
      "execution_count": null
    },
    {
      "cell_type": "code",
      "source": [
        "%cd /kaggle/working/YOLO-V8-CAM"
      ],
      "metadata": {
        "trusted": true,
        "execution": {
          "iopub.status.busy": "2024-11-03T21:47:28.851895Z",
          "iopub.execute_input": "2024-11-03T21:47:28.852630Z",
          "iopub.status.idle": "2024-11-03T21:47:28.858233Z",
          "shell.execute_reply.started": "2024-11-03T21:47:28.852587Z",
          "shell.execute_reply": "2024-11-03T21:47:28.857393Z"
        },
        "id": "UjEXpXGY4P2E"
      },
      "outputs": [],
      "execution_count": null
    },
    {
      "cell_type": "code",
      "source": [
        "!ls"
      ],
      "metadata": {
        "trusted": true,
        "execution": {
          "iopub.status.busy": "2024-11-03T21:47:30.068693Z",
          "iopub.execute_input": "2024-11-03T21:47:30.069335Z",
          "iopub.status.idle": "2024-11-03T21:47:31.071098Z",
          "shell.execute_reply.started": "2024-11-03T21:47:30.069297Z",
          "shell.execute_reply": "2024-11-03T21:47:31.069932Z"
        },
        "id": "0-wPFohf4P2E"
      },
      "outputs": [],
      "execution_count": null
    },
    {
      "cell_type": "code",
      "source": [
        "!pip install ttach"
      ],
      "metadata": {
        "trusted": true,
        "execution": {
          "iopub.status.busy": "2024-11-03T21:47:48.172139Z",
          "iopub.execute_input": "2024-11-03T21:47:48.173007Z",
          "iopub.status.idle": "2024-11-03T21:47:59.792871Z",
          "shell.execute_reply.started": "2024-11-03T21:47:48.172959Z",
          "shell.execute_reply": "2024-11-03T21:47:59.791698Z"
        },
        "id": "axG69Ag64P2E"
      },
      "outputs": [],
      "execution_count": null
    },
    {
      "cell_type": "code",
      "source": [
        "from yolo_cam.eigen_cam import EigenCAM\n",
        "from yolo_cam.utils.image import show_cam_on_image, scale_cam_image"
      ],
      "metadata": {
        "trusted": true,
        "execution": {
          "iopub.status.busy": "2024-11-03T21:48:20.746011Z",
          "iopub.execute_input": "2024-11-03T21:48:20.746457Z",
          "iopub.status.idle": "2024-11-03T21:48:20.764516Z",
          "shell.execute_reply.started": "2024-11-03T21:48:20.746416Z",
          "shell.execute_reply": "2024-11-03T21:48:20.763521Z"
        },
        "id": "ktW3sNhd4P2E"
      },
      "outputs": [],
      "execution_count": null
    },
    {
      "cell_type": "code",
      "source": [
        "img = cv2.imread('/kaggle/working/Rice-Panicle-Final-1/test/images/084_split_2_0_jpg.rf.9f326d055da577eb718958c4fd1e940d.jpg')\n",
        "img = cv2.resize(img, (640, 640))\n",
        "rgb_img = img.copy()\n",
        "img = np.float32(img) / 255"
      ],
      "metadata": {
        "trusted": true,
        "execution": {
          "iopub.status.busy": "2024-11-03T21:48:23.576557Z",
          "iopub.execute_input": "2024-11-03T21:48:23.577440Z",
          "iopub.status.idle": "2024-11-03T21:48:23.593437Z",
          "shell.execute_reply.started": "2024-11-03T21:48:23.577396Z",
          "shell.execute_reply": "2024-11-03T21:48:23.592277Z"
        },
        "id": "X5Lbgthv4P2E"
      },
      "outputs": [],
      "execution_count": null
    },
    {
      "cell_type": "code",
      "source": [
        "import ultralytics\n",
        "from ultralytics import YOLO\n",
        "model = YOLO('/kaggle/working/yolo11n.pt')\n",
        "model.cpu()"
      ],
      "metadata": {
        "trusted": true,
        "execution": {
          "iopub.status.busy": "2024-11-03T21:49:20.397377Z",
          "iopub.execute_input": "2024-11-03T21:49:20.397973Z",
          "iopub.status.idle": "2024-11-03T21:49:20.511403Z",
          "shell.execute_reply.started": "2024-11-03T21:49:20.397921Z",
          "shell.execute_reply": "2024-11-03T21:49:20.510492Z"
        },
        "id": "mAQKGe8l4P2E"
      },
      "outputs": [],
      "execution_count": null
    },
    {
      "cell_type": "code",
      "source": [
        "target_layers =[model.model.model[-2]]"
      ],
      "metadata": {
        "trusted": true,
        "execution": {
          "iopub.status.busy": "2024-11-03T21:50:35.610404Z",
          "iopub.execute_input": "2024-11-03T21:50:35.610791Z",
          "iopub.status.idle": "2024-11-03T21:50:35.615340Z",
          "shell.execute_reply.started": "2024-11-03T21:50:35.610753Z",
          "shell.execute_reply": "2024-11-03T21:50:35.614346Z"
        },
        "id": "klHZSLUF4P2E"
      },
      "outputs": [],
      "execution_count": null
    },
    {
      "cell_type": "code",
      "source": [
        "cam = EigenCAM(model, target_layers,task='od')"
      ],
      "metadata": {
        "trusted": true,
        "execution": {
          "iopub.status.busy": "2024-11-03T21:50:38.195863Z",
          "iopub.execute_input": "2024-11-03T21:50:38.196710Z",
          "iopub.status.idle": "2024-11-03T21:50:38.200946Z",
          "shell.execute_reply.started": "2024-11-03T21:50:38.196669Z",
          "shell.execute_reply": "2024-11-03T21:50:38.199985Z"
        },
        "id": "ohdjdt314P2E"
      },
      "outputs": [],
      "execution_count": null
    },
    {
      "cell_type": "code",
      "source": [
        "grayscale_cam = cam(rgb_img)[0, :, :]\n",
        "cam_image = show_cam_on_image(img, grayscale_cam, use_rgb=True)\n",
        "plt.imshow(cam_image)\n",
        "plt.show()"
      ],
      "metadata": {
        "trusted": true,
        "execution": {
          "iopub.status.busy": "2024-11-03T21:50:50.731817Z",
          "iopub.execute_input": "2024-11-03T21:50:50.732228Z",
          "iopub.status.idle": "2024-11-03T21:50:51.517893Z",
          "shell.execute_reply.started": "2024-11-03T21:50:50.732189Z",
          "shell.execute_reply": "2024-11-03T21:50:51.514451Z"
        },
        "id": "_3MJCZdy4P2F"
      },
      "outputs": [],
      "execution_count": null
    },
    {
      "cell_type": "code",
      "source": [
        "cam = EigenCAM(model, target_layers,task='od')\n",
        "grayscale_cam = cam(rgb_img)[0, :, :]\n",
        "cam_image = show_cam_on_image(img, grayscale_cam, use_rgb=True)\n",
        "plt.imshow(cam_image)\n",
        "plt.show()"
      ],
      "metadata": {
        "trusted": true,
        "execution": {
          "iopub.status.busy": "2024-11-03T21:51:14.088951Z",
          "iopub.execute_input": "2024-11-03T21:51:14.089858Z",
          "iopub.status.idle": "2024-11-03T21:51:14.682830Z",
          "shell.execute_reply.started": "2024-11-03T21:51:14.089812Z",
          "shell.execute_reply": "2024-11-03T21:51:14.681965Z"
        },
        "id": "fvTpkCAJ4P2F"
      },
      "outputs": [],
      "execution_count": null
    },
    {
      "cell_type": "code",
      "source": [
        "target_layers =[model.model.model[-2], model.model.model[-3], model.model.model[-4]]"
      ],
      "metadata": {
        "trusted": true,
        "execution": {
          "iopub.status.busy": "2024-11-03T21:51:31.274789Z",
          "iopub.execute_input": "2024-11-03T21:51:31.275205Z",
          "iopub.status.idle": "2024-11-03T21:51:31.280290Z",
          "shell.execute_reply.started": "2024-11-03T21:51:31.275165Z",
          "shell.execute_reply": "2024-11-03T21:51:31.279306Z"
        },
        "id": "Y1o6FSz74P2F"
      },
      "outputs": [],
      "execution_count": null
    },
    {
      "cell_type": "code",
      "source": [
        "cam = EigenCAM(model, target_layers,task='od')\n",
        "grayscale_cam = cam(rgb_img)[0, :, :]\n",
        "cam_image = show_cam_on_image(img, grayscale_cam, use_rgb=True)\n",
        "plt.imshow(cam_image)\n",
        "plt.show()"
      ],
      "metadata": {
        "trusted": true,
        "execution": {
          "iopub.status.busy": "2024-11-03T21:51:47.725668Z",
          "iopub.execute_input": "2024-11-03T21:51:47.726677Z",
          "iopub.status.idle": "2024-11-03T21:51:48.393230Z",
          "shell.execute_reply.started": "2024-11-03T21:51:47.726618Z",
          "shell.execute_reply": "2024-11-03T21:51:48.392366Z"
        },
        "id": "MB8awVcd4P2F"
      },
      "outputs": [],
      "execution_count": null
    },
    {
      "cell_type": "code",
      "source": [
        "im = cv2.cvtColor(rgb_img, cv2.COLOR_RGB2BGR)\n",
        "Image.fromarray(np.hstack((im, cam_image)))"
      ],
      "metadata": {
        "trusted": true,
        "execution": {
          "iopub.status.busy": "2024-11-03T21:56:29.012339Z",
          "iopub.execute_input": "2024-11-03T21:56:29.013284Z",
          "iopub.status.idle": "2024-11-03T21:56:29.156135Z",
          "shell.execute_reply.started": "2024-11-03T21:56:29.013237Z",
          "shell.execute_reply": "2024-11-03T21:56:29.155119Z"
        },
        "id": "tTOPRodR4P2F"
      },
      "outputs": [],
      "execution_count": null
    },
    {
      "cell_type": "code",
      "source": [],
      "metadata": {
        "trusted": true,
        "id": "DzwjiP_f4P2F"
      },
      "outputs": [],
      "execution_count": null
    }
  ]
}